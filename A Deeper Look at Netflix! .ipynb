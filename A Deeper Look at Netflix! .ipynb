{
 "cells": [
  {
   "attachments": {},
   "cell_type": "markdown",
   "id": "48597725",
   "metadata": {},
   "source": [
    "<div>\n",
    "<img src = \"netflix-logo.png\" width = \"500\"/>\n",
    "</div>"
   ]
  },
  {
   "cell_type": "markdown",
   "id": "6c383e38",
   "metadata": {},
   "source": [
    "# Introduction\n",
    "**Netflix is not a name unfamiliar to most people. Here are some key statistics why I am enthusaistic about analyzing Netflix.**\n",
    "- 04 million Netflix streaming subscribers as of Q4 2020 *(Netflix)*\n",
    "- Netflix users by region in Q4 2020: 74 million US & Canada; 67 million EMEA; 38 million Latin America; 25 million Asia Pacific *(Netflix)*\n",
    "- Netflix accounts for 34% of US streaming/8.5% of overall viewing *(Nielsen)*\n",
    "- Netflix US library contains 3,600 movies and 1,800 shows as of February 2021 *(JustWatch)*\n",
    "- Extraction most viewed Netflix Originals film as of January 2021, with 99 million views in first month *(Netflix via  What’s on Netflix)*\n",
    "- The Office most streamed Netflix (and overall) series in the US over 2020, with a total of 57.1 billion minutes *(Nielsen)*\n",
    "- Total Netflix 2020 revenue came to 25 billion, up from 20 billion in 2019 *(Netflix)*"
   ]
  },
  {
   "cell_type": "code",
   "execution_count": 10,
   "id": "3d52b5f3",
   "metadata": {},
   "outputs": [
    {
     "data": {
      "text/html": [
       "<div>\n",
       "<style scoped>\n",
       "    .dataframe tbody tr th:only-of-type {\n",
       "        vertical-align: middle;\n",
       "    }\n",
       "\n",
       "    .dataframe tbody tr th {\n",
       "        vertical-align: top;\n",
       "    }\n",
       "\n",
       "    .dataframe thead th {\n",
       "        text-align: right;\n",
       "    }\n",
       "</style>\n",
       "<table border=\"1\" class=\"dataframe\">\n",
       "  <thead>\n",
       "    <tr style=\"text-align: right;\">\n",
       "      <th></th>\n",
       "      <th>show_id</th>\n",
       "      <th>type</th>\n",
       "      <th>title</th>\n",
       "      <th>director</th>\n",
       "      <th>cast</th>\n",
       "      <th>country</th>\n",
       "      <th>date_added</th>\n",
       "      <th>release_year</th>\n",
       "      <th>rating</th>\n",
       "      <th>duration</th>\n",
       "      <th>listed_in</th>\n",
       "      <th>description</th>\n",
       "    </tr>\n",
       "  </thead>\n",
       "  <tbody>\n",
       "    <tr>\n",
       "      <th>2703</th>\n",
       "      <td>s2704</td>\n",
       "      <td>Movie</td>\n",
       "      <td>Hera Pheri</td>\n",
       "      <td>Prakash Mehra</td>\n",
       "      <td>Amitabh Bachchan, Vinod Khanna, Saira Banu, Su...</td>\n",
       "      <td>India</td>\n",
       "      <td>December 31, 2019</td>\n",
       "      <td>1976</td>\n",
       "      <td>TV-14</td>\n",
       "      <td>156 min</td>\n",
       "      <td>Action &amp; Adventure, Comedies, Dramas</td>\n",
       "      <td>The bond between two crooks and best friends i...</td>\n",
       "    </tr>\n",
       "    <tr>\n",
       "      <th>4082</th>\n",
       "      <td>s4083</td>\n",
       "      <td>Movie</td>\n",
       "      <td>Mighty Express: A Mighty Christmas</td>\n",
       "      <td>Clint Butler</td>\n",
       "      <td>Jay Hatton, Zoe Hatz, Meesha Contreras, Dylan ...</td>\n",
       "      <td>Canada</td>\n",
       "      <td>December 5, 2020</td>\n",
       "      <td>2020</td>\n",
       "      <td>TV-Y</td>\n",
       "      <td>26 min</td>\n",
       "      <td>Children &amp; Family Movies</td>\n",
       "      <td>The Mighty Express welcomes a new train and sp...</td>\n",
       "    </tr>\n",
       "    <tr>\n",
       "      <th>4661</th>\n",
       "      <td>s4662</td>\n",
       "      <td>Movie</td>\n",
       "      <td>Only Mine</td>\n",
       "      <td>Michael Civille</td>\n",
       "      <td>Amber Midthunder, Brett Zimmerman, Chris Brown...</td>\n",
       "      <td>United States</td>\n",
       "      <td>January 15, 2019</td>\n",
       "      <td>2018</td>\n",
       "      <td>TV-14</td>\n",
       "      <td>88 min</td>\n",
       "      <td>Thrillers</td>\n",
       "      <td>After dating a charming cop who turns into an ...</td>\n",
       "    </tr>\n",
       "    <tr>\n",
       "      <th>4660</th>\n",
       "      <td>s4661</td>\n",
       "      <td>Movie</td>\n",
       "      <td>Only God Forgives</td>\n",
       "      <td>Nicolas Winding Refn</td>\n",
       "      <td>Ryan Gosling, Kristin Scott Thomas, Vithaya Pa...</td>\n",
       "      <td>Denmark, France, United States, Sweden</td>\n",
       "      <td>May 15, 2018</td>\n",
       "      <td>2013</td>\n",
       "      <td>R</td>\n",
       "      <td>90 min</td>\n",
       "      <td>Cult Movies, Independent Movies, Thrillers</td>\n",
       "      <td>When a cop kills the brother of an expat Ameri...</td>\n",
       "    </tr>\n",
       "    <tr>\n",
       "      <th>7336</th>\n",
       "      <td>s7337</td>\n",
       "      <td>Movie</td>\n",
       "      <td>Under the Shadow</td>\n",
       "      <td>Babak Anvari</td>\n",
       "      <td>Narges Rashidi, Avin Manshadi, Bobby Naderi, R...</td>\n",
       "      <td>United Kingdom, Jordan, Qatar, Iran</td>\n",
       "      <td>January 7, 2017</td>\n",
       "      <td>2016</td>\n",
       "      <td>PG-13</td>\n",
       "      <td>84 min</td>\n",
       "      <td>Horror Movies, International Movies, Thrillers</td>\n",
       "      <td>During the Iran-Iraq conflict, a Tehran woman ...</td>\n",
       "    </tr>\n",
       "  </tbody>\n",
       "</table>\n",
       "</div>"
      ],
      "text/plain": [
       "     show_id   type                               title              director  \\\n",
       "2703   s2704  Movie                          Hera Pheri         Prakash Mehra   \n",
       "4082   s4083  Movie  Mighty Express: A Mighty Christmas          Clint Butler   \n",
       "4661   s4662  Movie                           Only Mine       Michael Civille   \n",
       "4660   s4661  Movie                   Only God Forgives  Nicolas Winding Refn   \n",
       "7336   s7337  Movie                    Under the Shadow          Babak Anvari   \n",
       "\n",
       "                                                   cast  \\\n",
       "2703  Amitabh Bachchan, Vinod Khanna, Saira Banu, Su...   \n",
       "4082  Jay Hatton, Zoe Hatz, Meesha Contreras, Dylan ...   \n",
       "4661  Amber Midthunder, Brett Zimmerman, Chris Brown...   \n",
       "4660  Ryan Gosling, Kristin Scott Thomas, Vithaya Pa...   \n",
       "7336  Narges Rashidi, Avin Manshadi, Bobby Naderi, R...   \n",
       "\n",
       "                                     country         date_added  release_year  \\\n",
       "2703                                   India  December 31, 2019          1976   \n",
       "4082                                  Canada   December 5, 2020          2020   \n",
       "4661                           United States   January 15, 2019          2018   \n",
       "4660  Denmark, France, United States, Sweden       May 15, 2018          2013   \n",
       "7336     United Kingdom, Jordan, Qatar, Iran    January 7, 2017          2016   \n",
       "\n",
       "     rating duration                                       listed_in  \\\n",
       "2703  TV-14  156 min            Action & Adventure, Comedies, Dramas   \n",
       "4082   TV-Y   26 min                        Children & Family Movies   \n",
       "4661  TV-14   88 min                                       Thrillers   \n",
       "4660      R   90 min      Cult Movies, Independent Movies, Thrillers   \n",
       "7336  PG-13   84 min  Horror Movies, International Movies, Thrillers   \n",
       "\n",
       "                                            description  \n",
       "2703  The bond between two crooks and best friends i...  \n",
       "4082  The Mighty Express welcomes a new train and sp...  \n",
       "4661  After dating a charming cop who turns into an ...  \n",
       "4660  When a cop kills the brother of an expat Ameri...  \n",
       "7336  During the Iran-Iraq conflict, a Tehran woman ...  "
      ]
     },
     "execution_count": 10,
     "metadata": {},
     "output_type": "execute_result"
    }
   ],
   "source": [
    "#Importing data and required libraries\n",
    "import os\n",
    "import pandas as pd\n",
    "import csv\n",
    "import matplotlib.pyplot as plt\n",
    "import seaborn as sns\n",
    "import numpy\n",
    "os.chdir(\"/Users/ayonikabose/Documents/GitHub/analysis_of_netflix_titles\")\n",
    "data = pd.read_csv(\"netflix_titles.csv\")\n",
    "df = pd.DataFrame(data, index = None)\n",
    "data.sample(5)\n"
   ]
  },
  {
   "cell_type": "markdown",
   "id": "e3e1a790",
   "metadata": {},
   "source": [
    "To get an idea, here are 5 random rows from the data! Can't wait to gain some insights *muscle emoji here please!*"
   ]
  },
  {
   "cell_type": "code",
   "execution_count": 12,
   "id": "d141acf5",
   "metadata": {},
   "outputs": [
    {
     "name": "stdout",
     "output_type": "stream",
     "text": [
      "There are 7787 rows and 12 columns in the data\n"
     ]
    }
   ],
   "source": [
    "rows = len(df.axes[0])\n",
    "cols = len(df.axes[1])\n",
    "\n",
    "print(\"There are \" + str(rows) + \" rows and \" + str(cols) + \" columns in the data\")"
   ]
  },
  {
   "cell_type": "code",
   "execution_count": 13,
   "id": "9dfc825b",
   "metadata": {},
   "outputs": [
    {
     "data": {
      "text/plain": [
       "show_id            0\n",
       "type               0\n",
       "title              0\n",
       "director        2389\n",
       "cast             718\n",
       "country          507\n",
       "date_added        10\n",
       "release_year       0\n",
       "rating             7\n",
       "duration           0\n",
       "listed_in          0\n",
       "description        0\n",
       "dtype: int64"
      ]
     },
     "execution_count": 13,
     "metadata": {},
     "output_type": "execute_result"
    }
   ],
   "source": [
    "#Let's clean some of the data! \n",
    "data.isnull().sum()"
   ]
  },
  {
   "cell_type": "code",
   "execution_count": 54,
   "id": "9bf17ce9",
   "metadata": {},
   "outputs": [
    {
     "name": "stdout",
     "output_type": "stream",
     "text": [
      "There are now 4808 rows and 12 columns in the data!\n"
     ]
    }
   ],
   "source": [
    "#Using this code helps us remove all the NA values that was present in the data. We dropped almost 3000 rows phew! \n",
    "data = df.dropna()\n",
    "rows = len(data.axes[0])\n",
    "cols = len(data.axes[1])\n",
    "print(\"There are now \" + str(rows) + \" rows and \" + str(cols) + \" columns in the data!\")\n"
   ]
  },
  {
   "cell_type": "code",
   "execution_count": 55,
   "id": "664857e7",
   "metadata": {},
   "outputs": [
    {
     "name": "stderr",
     "output_type": "stream",
     "text": [
      "/Users/ayonikabose/opt/anaconda3/lib/python3.8/site-packages/seaborn/_decorators.py:36: FutureWarning: Pass the following variable as a keyword arg: x. From version 0.12, the only valid positional argument will be `data`, and passing other arguments without an explicit keyword will result in an error or misinterpretation.\n",
      "  warnings.warn(\n",
      "/Users/ayonikabose/opt/anaconda3/lib/python3.8/site-packages/seaborn/_decorators.py:36: FutureWarning: Pass the following variable as a keyword arg: x. From version 0.12, the only valid positional argument will be `data`, and passing other arguments without an explicit keyword will result in an error or misinterpretation.\n",
      "  warnings.warn(\n",
      "/Users/ayonikabose/opt/anaconda3/lib/python3.8/site-packages/seaborn/_decorators.py:36: FutureWarning: Pass the following variable as a keyword arg: x. From version 0.12, the only valid positional argument will be `data`, and passing other arguments without an explicit keyword will result in an error or misinterpretation.\n",
      "  warnings.warn(\n",
      "/Users/ayonikabose/opt/anaconda3/lib/python3.8/site-packages/seaborn/_decorators.py:36: FutureWarning: Pass the following variable as a keyword arg: x. From version 0.12, the only valid positional argument will be `data`, and passing other arguments without an explicit keyword will result in an error or misinterpretation.\n",
      "  warnings.warn(\n"
     ]
    },
    {
     "data": {
      "text/plain": [
       "Text(0, 0.5, 'Number Of Releases')"
      ]
     },
     "execution_count": 55,
     "metadata": {},
     "output_type": "execute_result"
    },
    {
     "data": {
      "image/png": "[encoded data removed]",
      "text/plain": [
       "<Figure size 1152x576 with 4 Axes>"
      ]
     },
     "metadata": {
      "needs_background": "light"
     },
     "output_type": "display_data"
    }
   ],
   "source": [
    "f, ax = plt.subplots(2,2,figsize=(16,8))\n",
    "vis1 = sns.countplot(data[\"type\"], ax= ax[0][0])\n",
    "vis2 = sns.countplot(data[\"rating\"], ax=ax[0][1], order=data['rating'].value_counts().index[0:15])\n",
    "vis3 = sns.countplot(df['country'],ax=ax[1][0],palette = 'Set1', order=data['country'].value_counts().index[0:5])\n",
    "plt.xlabel('Country')\n",
    "plt.ylabel('Number Of Releases')\n",
    "vis4= sns.countplot(df['release_year'], ax = ax[1][1] ,palette = 'Set3', order = data['release_year'].value_counts().index[0:10])\n",
    "plt.xlabel('Release Year')\n",
    "plt.ylabel('Number Of Releases')\n"
   ]
  },
  {
   "cell_type": "markdown",
   "id": "f4ad495e",
   "metadata": {},
   "source": [
    "#### Based on these data visualizations we can find out some *fun stuff*\n",
    "- **Movies are wayy more popular** than TV Shows \n",
    "- **TV for Mature Audiences** seems to be the most popular from the releases, interesting...\n",
    "- USA, India, UK, Canada and Egypt seem to be the **most popular countries** for releases, GO BOLLYWOOD! \n",
    "- **2017 was a very popular year** for producers, but what's super interesting is that despite the Global Pandemic in 2020, it still managed to come 5th in most releases, so that's amazing! "
   ]
  },
  {
   "cell_type": "code",
   "execution_count": null,
   "id": "5ddd0010",
   "metadata": {},
   "outputs": [],
   "source": []
  }
 ],
 "metadata": {
  "kernelspec": {
   "display_name": "Python 3",
   "language": "python",
   "name": "python3"
  },
  "language_info": {
   "codemirror_mode": {
    "name": "ipython",
    "version": 3
   },
   "file_extension": ".py",
   "mimetype": "text/x-python",
   "name": "python",
   "nbconvert_exporter": "python",
   "pygments_lexer": "ipython3",
   "version": "3.8.8"
  }
 },
 "nbformat": 4,
 "nbformat_minor": 5
}
